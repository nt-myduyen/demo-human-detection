{
 "cells": [
  {
   "cell_type": "code",
   "execution_count": 16,
   "metadata": {},
   "outputs": [],
   "source": [
    "import cv2\n",
    "import os\n",
    "import re\n",
    "import mediapipe as mp\n",
    "import pandas as pd"
   ]
  },
  {
   "cell_type": "code",
   "execution_count": 37,
   "metadata": {},
   "outputs": [],
   "source": [
    "# Initialize mediapipe lib\n",
    "mpPose = mp.solutions.pose\n",
    "pose = mpPose.Pose()\n",
    "mpDraw = mp.solutions.drawing_utils\n",
    "\n",
    "no_of_frames = 120"
   ]
  },
  {
   "cell_type": "code",
   "execution_count": 18,
   "metadata": {},
   "outputs": [],
   "source": [
    "def make_landmark_timestep(results):\n",
    "    c_lm = []\n",
    "    for id, lm in enumerate(results.pose_landmarks.landmark):\n",
    "        c_lm.append(lm.x)\n",
    "        c_lm.append(lm.y)\n",
    "        c_lm.append(lm.z)\n",
    "        c_lm.append(lm.visibility)\n",
    "    return c_lm"
   ]
  },
  {
   "cell_type": "code",
   "execution_count": 19,
   "metadata": {},
   "outputs": [],
   "source": [
    "def draw_landmark_on_image(mpDraw, results, frame):\n",
    "    # Draw the line to connect the landmarks\n",
    "    mpDraw.draw_landmarks(frame, results.pose_landmarks, mpPose.POSE_CONNECTIONS)\n",
    "  \n",
    "    # Draw the landmarks on the frame\n",
    "    for id, lm in enumerate(results.pose_landmarks.landmark):\n",
    "        h, w, c = frame.shape\n",
    "        cx, cy = int(lm.x * w), int(lm.y * h)\n",
    "        cv2.circle(frame, (cx, cy), 5, (255, 0, 0), cv2.FILLED)\n",
    "    return frame"
   ]
  },
  {
   "cell_type": "code",
   "execution_count": 20,
   "metadata": {},
   "outputs": [],
   "source": [
    "# Set the path of all the videos\n",
    "video_folder_features = '/home/yuu/Documents/PBL5-demo/Features'\n",
    "video_folder_data = '/home/yuu/Documents/PBL5-demo/Data'\n",
    "video_folder_resize = '/home/yuu/Documents/PBL5-demo/Resize'\n",
    "  "
   ]
  },
  {
   "attachments": {},
   "cell_type": "markdown",
   "metadata": {},
   "source": [
    "### Read video from the folder and save the landmarks to a csv file"
   ]
  },
  {
   "attachments": {},
   "cell_type": "markdown",
   "metadata": {},
   "source": [
    "#### Preprocessing video"
   ]
  },
  {
   "attachments": {},
   "cell_type": "markdown",
   "metadata": {},
   "source": [
    "Resize video"
   ]
  },
  {
   "cell_type": "code",
   "execution_count": 21,
   "metadata": {},
   "outputs": [],
   "source": [
    "def resize_video(video_path, output_path, new_size=(720, 480), new_fps=20):\n",
    "    cap = cv2.VideoCapture(video_path)\n",
    "    fps = cap.get(cv2.CAP_PROP_FPS)\n",
    "    # print(\"fps: \", fps)\n",
    "    frame_size = (int(cap.get(cv2.CAP_PROP_FRAME_WIDTH)), int(cap.get(cv2.CAP_PROP_FRAME_HEIGHT)))\n",
    "    # print(\"frame_size: \", frame_size)\n",
    "    writer = cv2.VideoWriter(output_path, cv2.VideoWriter_fourcc(*'mp4v'), new_fps, new_size)\n",
    "\n",
    "    while cap.isOpened():\n",
    "        ret, frame = cap.read()\n",
    "\n",
    "        if ret:\n",
    "            # Resize frame\n",
    "            resized_frame = cv2.resize(frame, new_size)\n",
    "            writer.write(resized_frame)\n",
    "        else:\n",
    "            break\n",
    "\n",
    "    cap.release()\n",
    "    writer.release()\n",
    "\n"
   ]
  },
  {
   "attachments": {},
   "cell_type": "markdown",
   "metadata": {},
   "source": [
    "Create folder resize to save video resized"
   ]
  },
  {
   "cell_type": "code",
   "execution_count": 23,
   "metadata": {},
   "outputs": [],
   "source": [
    "for root, dirs, files in os.walk(video_folder_data):\n",
    "    for dir in dirs:\n",
    "        # if (dir.startswith('Fall') or dir.startswith('Walk')):\n",
    "        #     print(dir)\n",
    "        for video in os.listdir(os.path.join(root, dir)):\n",
    "            video_path = os.path.join(root, dir, video)\n",
    "            # print(video_path)\n",
    "            output_folder = os.path.join('/home/yuu/Documents/PBL5-demo/Resize', dir)\n",
    "            if not os.path.exists(output_folder):\n",
    "                os.makedirs(output_folder)\n",
    "            output_path = os.path.join(output_folder, video.replace('.mp4', '_resized.mp4'))\n",
    "            # print(output_path)\n",
    "            resize_video(video_path, output_path)\n"
   ]
  },
  {
   "attachments": {},
   "cell_type": "markdown",
   "metadata": {},
   "source": [
    "Cut video resized into frames -> save image"
   ]
  },
  {
   "cell_type": "code",
   "execution_count": 24,
   "metadata": {},
   "outputs": [],
   "source": [
    "def extract_frames_from_video(video_path, output_folder, frames_per_second):\n",
    "    cap = cv2.VideoCapture(video_path)\n",
    "    frame_rate = cap.get(cv2.CAP_PROP_FPS)\n",
    "    total_frames = cap.get(cv2.CAP_PROP_FRAME_COUNT)\n",
    "\n",
    "    if not os.path.exists(output_folder):\n",
    "        os.makedirs(output_folder)\n",
    "\n",
    "    count = 0\n",
    "    index = 0\n",
    "\n",
    "    while cap.isOpened():\n",
    "        ret, frame = cap.read()\n",
    "\n",
    "        if ret:\n",
    "            count += 1\n",
    "            if count < frame_rate * 3:\n",
    "                continue\n",
    "            elif count % int(frame_rate / frames_per_second) == 0:\n",
    "                index += 1\n",
    "                output_path = os.path.join(output_folder, f\"{index:04d}.jpg\")\n",
    "                cv2.imwrite(output_path, frame)\n",
    "            elif index > 0 and count >= (index * frame_rate / frames_per_second + frame_rate * 6):\n",
    "                break\n",
    "        else:\n",
    "            break\n",
    "\n",
    "    cap.release()\n"
   ]
  },
  {
   "cell_type": "code",
   "execution_count": 25,
   "metadata": {},
   "outputs": [],
   "source": [
    "for root, dirs, files in os.walk(video_folder_resize):\n",
    "    for dir in dirs:\n",
    "        video_folder = os.path.join(root, dir)\n",
    "        output_folder = os.path.join('/home/yuu/Documents/PBL5-demo/Image', dir)\n",
    "        for video in os.listdir(video_folder):\n",
    "            video_path = os.path.join(video_folder, video)\n",
    "            output_path = os.path.join(output_folder, video.replace('_resized.mp4', ''))\n",
    "            # print(output_path)\n",
    "            extract_frames_from_video(video_path, output_path, 6)"
   ]
  },
  {
   "attachments": {},
   "cell_type": "markdown",
   "metadata": {},
   "source": [
    "### Read video and save landmark"
   ]
  },
  {
   "attachments": {},
   "cell_type": "markdown",
   "metadata": {},
   "source": [
    "Save the landmarks to a csv file"
   ]
  },
  {
   "cell_type": "code",
   "execution_count": 33,
   "metadata": {},
   "outputs": [],
   "source": [
    "def save_landmark_to_csv(label, lm_list):\n",
    "    df = pd.DataFrame(lm_list)\n",
    "    df.to_csv(label + '.csv')\n",
    "    print('File name:', label + '.csv')"
   ]
  },
  {
   "cell_type": "code",
   "execution_count": 34,
   "metadata": {},
   "outputs": [],
   "source": [
    "def handle_video_features(video_path, output_path, lm_list): \n",
    "    cap = cv2.VideoCapture(video_path)\n",
    "\n",
    "    if (cap.isOpened() == False):\n",
    "        print(\"Error opening video stream or file\")\n",
    "\n",
    "    fps = cap.get(cv2.CAP_PROP_FPS)\n",
    "    frame_size = (int(cap.get(cv2.CAP_PROP_FRAME_WIDTH)), int(cap.get(cv2.CAP_PROP_FRAME_HEIGHT)))\n",
    "    print(\"output_path: \", output_path)\n",
    "    writer = cv2.VideoWriter(output_path, cv2.VideoWriter_fourcc(*'mp4v'), fps, frame_size)\n",
    "\n",
    "    while cap.isOpened():\n",
    "        ret, frame = cap.read()\n",
    "\n",
    "        if ret: \n",
    "            # Recognize the pose\n",
    "            frameRGB = cv2.cvtColor(frame, cv2.COLOR_BGR2RGB)\n",
    "            results = pose.process(frameRGB)\n",
    "      \n",
    "            if results.pose_landmarks:\n",
    "                # Read the value of the landmarks\n",
    "                lm = make_landmark_timestep(results)\n",
    "                lm_list.append(lm)\n",
    "        \n",
    "                # Draw the landmarks on the frame\n",
    "                frame = draw_landmark_on_image(mpDraw, results, frame)\n",
    "      \n",
    "            # cv2.imshow('frame', frame)\n",
    "            writer.write(frame)\n",
    "            if cv2.waitKey(1) == ord('q'):\n",
    "                break\n",
    "                \n",
    "\n",
    "        else:\n",
    "            break\n",
    "    \n",
    "    cap.release()\n",
    "    writer.release()\n",
    "    cv2.destroyAllWindows()\n"
   ]
  },
  {
   "cell_type": "code",
   "execution_count": 36,
   "metadata": {},
   "outputs": [
    {
     "name": "stdout",
     "output_type": "stream",
     "text": [
      "output_path:  /home/yuu/Documents/PBL5-demo/Features/Fall_right/FallRightS4_features.mp4\n",
      "output_path:  /home/yuu/Documents/PBL5-demo/Features/Fall_right/FallRightS10_features.mp4\n",
      "output_path:  /home/yuu/Documents/PBL5-demo/Features/Fall_right/FallRightS5_features.mp4\n",
      "output_path:  /home/yuu/Documents/PBL5-demo/Features/Fall_right/FallRightS9_features.mp4\n",
      "output_path:  /home/yuu/Documents/PBL5-demo/Features/Fall_right/FallRightS1_features.mp4\n",
      "output_path:  /home/yuu/Documents/PBL5-demo/Features/Fall_right/FallRightS8_features.mp4\n",
      "output_path:  /home/yuu/Documents/PBL5-demo/Features/Fall_right/FallRightS2_features.mp4\n",
      "output_path:  /home/yuu/Documents/PBL5-demo/Features/Fall_right/FallRightS7_features.mp4\n",
      "output_path:  /home/yuu/Documents/PBL5-demo/Features/Fall_right/FallRightS3_features.mp4\n",
      "output_path:  /home/yuu/Documents/PBL5-demo/Features/Fall_right/FallRightS6_features.mp4\n",
      "File name: Fall_right.csv\n",
      "output_path:  /home/yuu/Documents/PBL5-demo/Features/Fall_left/FallLeftS3_features.mp4\n",
      "output_path:  /home/yuu/Documents/PBL5-demo/Features/Fall_left/FallLeftS5_features.mp4\n",
      "output_path:  /home/yuu/Documents/PBL5-demo/Features/Fall_left/FallLeftS8_features.mp4\n",
      "output_path:  /home/yuu/Documents/PBL5-demo/Features/Fall_left/FallLeftS9_features.mp4\n",
      "output_path:  /home/yuu/Documents/PBL5-demo/Features/Fall_left/FallLeftS6_features.mp4\n",
      "output_path:  /home/yuu/Documents/PBL5-demo/Features/Fall_left/FallLeftS10_features.mp4\n",
      "output_path:  /home/yuu/Documents/PBL5-demo/Features/Fall_left/FallLeftS1_features.mp4\n",
      "output_path:  /home/yuu/Documents/PBL5-demo/Features/Fall_left/FallLeftS2_features.mp4\n",
      "output_path:  /home/yuu/Documents/PBL5-demo/Features/Fall_left/FallLeftS4_features.mp4\n",
      "output_path:  /home/yuu/Documents/PBL5-demo/Features/Fall_left/FallLeftS7_features.mp4\n",
      "File name: Fall_left.csv\n",
      "output_path:  /home/yuu/Documents/PBL5-demo/Features/Fall_sitting/FallSittingS4_features.mp4\n",
      "output_path:  /home/yuu/Documents/PBL5-demo/Features/Fall_sitting/FallSittingS10_features.mp4\n",
      "output_path:  /home/yuu/Documents/PBL5-demo/Features/Fall_sitting/FallSittingS5_features.mp4\n",
      "output_path:  /home/yuu/Documents/PBL5-demo/Features/Fall_sitting/FallSittingS1_features.mp4\n",
      "output_path:  /home/yuu/Documents/PBL5-demo/Features/Fall_sitting/FallSittingS9_features.mp4\n",
      "output_path:  /home/yuu/Documents/PBL5-demo/Features/Fall_sitting/FallSittingS8_features.mp4\n",
      "output_path:  /home/yuu/Documents/PBL5-demo/Features/Fall_sitting/FallSittingS3_features.mp4\n",
      "output_path:  /home/yuu/Documents/PBL5-demo/Features/Fall_sitting/FallSittingS7_features.mp4\n",
      "output_path:  /home/yuu/Documents/PBL5-demo/Features/Fall_sitting/FallSittingS2_features.mp4\n",
      "output_path:  /home/yuu/Documents/PBL5-demo/Features/Fall_sitting/FallSittingS6_features.mp4\n",
      "File name: Fall_sitting.csv\n",
      "output_path:  /home/yuu/Documents/PBL5-demo/Features/Fall_backwards/FallBackwardsS9_features.mp4\n",
      "output_path:  /home/yuu/Documents/PBL5-demo/Features/Fall_backwards/FallBackwardsS8_features.mp4\n",
      "output_path:  /home/yuu/Documents/PBL5-demo/Features/Fall_backwards/FallBackwardsS1_features.mp4\n",
      "output_path:  /home/yuu/Documents/PBL5-demo/Features/Fall_backwards/FallBackwardsS10_features.mp4\n",
      "output_path:  /home/yuu/Documents/PBL5-demo/Features/Fall_backwards/FallBackwardsS3_features.mp4\n",
      "output_path:  /home/yuu/Documents/PBL5-demo/Features/Fall_backwards/FallBackwardsS7_features.mp4\n",
      "output_path:  /home/yuu/Documents/PBL5-demo/Features/Fall_backwards/FallBackwardsS5_features.mp4\n",
      "output_path:  /home/yuu/Documents/PBL5-demo/Features/Fall_backwards/FallBackwardsS6_features.mp4\n",
      "output_path:  /home/yuu/Documents/PBL5-demo/Features/Fall_backwards/FallBackwardsS2_features.mp4\n",
      "output_path:  /home/yuu/Documents/PBL5-demo/Features/Fall_backwards/FallBackwardsS4_features.mp4\n",
      "File name: Fall_backwards.csv\n",
      "output_path:  /home/yuu/Documents/PBL5-demo/Features/Lie_down/LieDown (3)_features.mp4\n",
      "output_path:  /home/yuu/Documents/PBL5-demo/Features/Lie_down/LieDown (4)_features.mp4\n",
      "output_path:  /home/yuu/Documents/PBL5-demo/Features/Lie_down/LieDown (1)_features.mp4\n",
      "output_path:  /home/yuu/Documents/PBL5-demo/Features/Lie_down/LieDown (6)_features.mp4\n",
      "output_path:  /home/yuu/Documents/PBL5-demo/Features/Lie_down/LieDown (2)_features.mp4\n",
      "output_path:  /home/yuu/Documents/PBL5-demo/Features/Lie_down/LieDown (7)_features.mp4\n",
      "output_path:  /home/yuu/Documents/PBL5-demo/Features/Lie_down/LieDown (5)_features.mp4\n",
      "File name: Lie_down.csv\n",
      "output_path:  /home/yuu/Documents/PBL5-demo/Features/Fall_forward/FallForwardS3_features.mp4\n",
      "output_path:  /home/yuu/Documents/PBL5-demo/Features/Fall_forward/FallForwardS2_features.mp4\n",
      "output_path:  /home/yuu/Documents/PBL5-demo/Features/Fall_forward/FallForwardS9_features.mp4\n",
      "output_path:  /home/yuu/Documents/PBL5-demo/Features/Fall_forward/FallForwardS1_features.mp4\n",
      "output_path:  /home/yuu/Documents/PBL5-demo/Features/Fall_forward/FallForwardS7_features.mp4\n",
      "output_path:  /home/yuu/Documents/PBL5-demo/Features/Fall_forward/FallForwardS6_features.mp4\n",
      "output_path:  /home/yuu/Documents/PBL5-demo/Features/Fall_forward/FallForwardS4_features.mp4\n",
      "output_path:  /home/yuu/Documents/PBL5-demo/Features/Fall_forward/FallForwardS5_features.mp4\n",
      "output_path:  /home/yuu/Documents/PBL5-demo/Features/Fall_forward/FallForwardS10_features.mp4\n",
      "output_path:  /home/yuu/Documents/PBL5-demo/Features/Fall_forward/FallForwardS8_features.mp4\n",
      "File name: Fall_forward.csv\n",
      "output_path:  /home/yuu/Documents/PBL5-demo/Features/Kneel/KneelS7_features.mp4\n",
      "output_path:  /home/yuu/Documents/PBL5-demo/Features/Kneel/KneelS8_features.mp4\n",
      "output_path:  /home/yuu/Documents/PBL5-demo/Features/Kneel/KneelS3_features.mp4\n",
      "output_path:  /home/yuu/Documents/PBL5-demo/Features/Kneel/KneelS9_features.mp4\n",
      "output_path:  /home/yuu/Documents/PBL5-demo/Features/Kneel/KneelS6_features.mp4\n",
      "output_path:  /home/yuu/Documents/PBL5-demo/Features/Kneel/KneelS1_features.mp4\n",
      "output_path:  /home/yuu/Documents/PBL5-demo/Features/Kneel/KneelS2_features.mp4\n",
      "output_path:  /home/yuu/Documents/PBL5-demo/Features/Kneel/KneelS5_features.mp4\n",
      "output_path:  /home/yuu/Documents/PBL5-demo/Features/Kneel/KneelS4_features.mp4\n",
      "output_path:  /home/yuu/Documents/PBL5-demo/Features/Kneel/KneelS10_features.mp4\n",
      "File name: Kneel.csv\n",
      "output_path:  /home/yuu/Documents/PBL5-demo/Features/Walk/WalkS4_features.mp4\n",
      "output_path:  /home/yuu/Documents/PBL5-demo/Features/Walk/WalkS7_features.mp4\n",
      "output_path:  /home/yuu/Documents/PBL5-demo/Features/Walk/WalkS9_features.mp4\n",
      "output_path:  /home/yuu/Documents/PBL5-demo/Features/Walk/WalkS1_features.mp4\n",
      "output_path:  /home/yuu/Documents/PBL5-demo/Features/Walk/WalkS8_features.mp4\n",
      "output_path:  /home/yuu/Documents/PBL5-demo/Features/Walk/WalkS6_features.mp4\n",
      "output_path:  /home/yuu/Documents/PBL5-demo/Features/Walk/WalkS10_features.mp4\n",
      "output_path:  /home/yuu/Documents/PBL5-demo/Features/Walk/WalkS3_features.mp4\n",
      "output_path:  /home/yuu/Documents/PBL5-demo/Features/Walk/WalkS2_features.mp4\n",
      "output_path:  /home/yuu/Documents/PBL5-demo/Features/Walk/WalkS5_features.mp4\n",
      "File name: Walk.csv\n",
      "output_path:  /home/yuu/Documents/PBL5-demo/Features/Sit_down/SitDownS8_features.mp4\n",
      "output_path:  /home/yuu/Documents/PBL5-demo/Features/Sit_down/SitDownS7_features.mp4\n",
      "output_path:  /home/yuu/Documents/PBL5-demo/Features/Sit_down/SitDownS6_features.mp4\n",
      "output_path:  /home/yuu/Documents/PBL5-demo/Features/Sit_down/SitDownS3_features.mp4\n",
      "output_path:  /home/yuu/Documents/PBL5-demo/Features/Sit_down/SitDownS2_features.mp4\n",
      "output_path:  /home/yuu/Documents/PBL5-demo/Features/Sit_down/SitDownS10_features.mp4\n",
      "output_path:  /home/yuu/Documents/PBL5-demo/Features/Sit_down/SitDownS9_features.mp4\n",
      "output_path:  /home/yuu/Documents/PBL5-demo/Features/Sit_down/SitDownS1_features.mp4\n",
      "output_path:  /home/yuu/Documents/PBL5-demo/Features/Sit_down/SitDownS4_features.mp4\n",
      "output_path:  /home/yuu/Documents/PBL5-demo/Features/Sit_down/SitDownS5_features.mp4\n",
      "File name: Sit_down.csv\n",
      "output_path:  /home/yuu/Documents/PBL5-demo/Features/Pick_up_object/PickupobjectS5_features.mp4\n",
      "output_path:  /home/yuu/Documents/PBL5-demo/Features/Pick_up_object/PickupobjectS4_features.mp4\n",
      "output_path:  /home/yuu/Documents/PBL5-demo/Features/Pick_up_object/PickupobjectS6_features.mp4\n",
      "output_path:  /home/yuu/Documents/PBL5-demo/Features/Pick_up_object/PickupobjectS8_features.mp4\n",
      "output_path:  /home/yuu/Documents/PBL5-demo/Features/Pick_up_object/PickupobjectS7_features.mp4\n",
      "output_path:  /home/yuu/Documents/PBL5-demo/Features/Pick_up_object/PickupobjectS3_features.mp4\n",
      "output_path:  /home/yuu/Documents/PBL5-demo/Features/Pick_up_object/PickupobjectS1_features.mp4\n",
      "output_path:  /home/yuu/Documents/PBL5-demo/Features/Pick_up_object/PickupobjectS2_features.mp4\n",
      "output_path:  /home/yuu/Documents/PBL5-demo/Features/Pick_up_object/PickupobjectS10_features.mp4\n",
      "output_path:  /home/yuu/Documents/PBL5-demo/Features/Pick_up_object/PickupobjectS9_features.mp4\n",
      "File name: Pick_up_object.csv\n"
     ]
    }
   ],
   "source": [
    "for root, dirs, files in os.walk(video_folder_resize):\n",
    "    for dir in dirs:\n",
    "        lm_list = []\n",
    "        for video in os.listdir(os.path.join(root, dir)):\n",
    "            video_path = os.path.join(root, dir, video)\n",
    "            # print(video_path)\n",
    "            output_folder = os.path.join(video_folder_features, dir)\n",
    "            if not os.path.exists(output_folder):\n",
    "                os.makedirs(output_folder)\n",
    "            output_path = os.path.join(output_folder, video.replace('_resized.mp4', '_features.mp4'))\n",
    "            # print(output_path)\n",
    "            handle_video_features(video_path, output_path, lm_list)\n",
    "        save_landmark_to_csv(dir, lm_list)"
   ]
  }
 ],
 "metadata": {
  "kernelspec": {
   "display_name": "base",
   "language": "python",
   "name": "python3"
  },
  "language_info": {
   "codemirror_mode": {
    "name": "ipython",
    "version": 3
   },
   "file_extension": ".py",
   "mimetype": "text/x-python",
   "name": "python",
   "nbconvert_exporter": "python",
   "pygments_lexer": "ipython3",
   "version": "3.9.12"
  },
  "orig_nbformat": 4
 },
 "nbformat": 4,
 "nbformat_minor": 2
}
